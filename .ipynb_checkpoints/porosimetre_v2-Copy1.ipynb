{
 "cells": [
  {
   "cell_type": "code",
   "execution_count": 1,
   "id": "a7eedf55-d57c-4691-aba9-523c77811163",
   "metadata": {},
   "outputs": [],
   "source": [
    "import numpy as np\n",
    "import matplotlib\n",
    "import matplotlib.pyplot as plt\n",
    "matplotlib.use('TkAgg')"
   ]
  },
  {
   "cell_type": "code",
   "execution_count": 2,
   "id": "d0cc6b1a-338d-404e-9687-49649813c1ef",
   "metadata": {},
   "outputs": [],
   "source": [
    "# Diamètre et Longueur du cylindre\n",
    "Diam = 37\n",
    "Long = 65"
   ]
  },
  {
   "cell_type": "markdown",
   "id": "ad98f723-2184-47a9-8915-0792a50ff4e9",
   "metadata": {},
   "source": [
    "# Les fonctions"
   ]
  },
  {
   "cell_type": "code",
   "execution_count": 3,
   "id": "4314dad8-f248-4001-b26c-cdc2169b1fd6",
   "metadata": {},
   "outputs": [],
   "source": [
    "# fonction pour tracer une médiatrice d'un segment AB\n",
    "def plot_mediatrice_AB(A, B):\n",
    "    # Calcul du milieu du segment AB\n",
    "    I = ((A[0] + B[0]) / 2, (A[1] + B[1]) / 2)\n",
    "    \n",
    "    # Vérification du cas particulier où le segment AB est vertical\n",
    "    if A[0] == B[0]:\n",
    "        # La médiatrice sera une droite horizontale passant par le milieu\n",
    "        x_vals = np.array([I[0] - 5, I[0] + 5])  # Étend la droite sur l'axe x\n",
    "        y_vals = np.array([I[1], I[1]])  # x reste constant\n",
    "\n",
    "    else:\n",
    "        # Calcul de la pente de la médiatrice\n",
    "        a = -(B[0] - A[0]) / (B[1] - A[1])\n",
    "        # Calcul de l'ordonnée à l'origine (b)\n",
    "        b = I[1] - a * I[0]\n",
    "        \n",
    "        # Générer les valeurs x pour tracer la droite\n",
    "        x_vals = np.linspace(A[0]+700, B[0]-700, 100)  # Etend les x pour un tracé plus long\n",
    "        y_vals = a * x_vals + b\n",
    "\n",
    "    #print('a : ', a,'\\nb : ',b,'\\nI : ', I)\n",
    "    # Tracer la médiatrice\n",
    "    plt.plot(x_vals, y_vals, '--y')  # Tracé en rouge avec des tirets\n",
    "\n",
    "#exemple\n",
    "plot_mediatrice_AB((0,0), (0.1,30))"
   ]
  },
  {
   "cell_type": "code",
   "execution_count": 4,
   "id": "4926c2b5-3bbe-432d-9683-970077ab2f87",
   "metadata": {},
   "outputs": [],
   "source": [
    "# trace la parallèle à P1P2 passant par P3\n",
    "def parallele_AB_C(P1, P2, P3):\n",
    "    # Vérification du cas particulier où le segment AB est vertical\n",
    "    if P1[0] == P2[0]:\n",
    "        # La parallèle sera une droite verticale passant par C\n",
    "        x_vals = np.array([P3[0], P3[0]])  # x reste constant\n",
    "        y_vals = np.array([P3[1] - 500, P3[1] + 500])  # Étend la droite sur l'axe y\n",
    "        plt.plot(x_vals, y_vals, '--y')\n",
    "        return (P3[0],0)\n",
    "    else:\n",
    "        # Calcul de la pente de la parallèle\n",
    "        a = (P2[1] - P1[1])/(P2[0] - P1[0])\n",
    "        # Calcul de l'ordonnée à l'origine (b)\n",
    "        b = P3[1] - a * P3[0]\n",
    "        \n",
    "        # Générer les valeurs x pour tracer la droite\n",
    "        x_vals = np.linspace(P3[0]-200, P3[0]+200, 100)  # Etend les x pour un tracé plus long\n",
    "        y_vals = a * x_vals + b\n",
    "        plt.plot(x_vals, y_vals, '--y')\n",
    "        return (0,b)"
   ]
  },
  {
   "cell_type": "code",
   "execution_count": 5,
   "id": "0a435092-27e9-48ee-b6d0-492eeeca249a",
   "metadata": {},
   "outputs": [],
   "source": [
    "def plot_line_AB(P1, P2):\n",
    "    # Calcul de la pente de la droite P1P2\n",
    "    a = (P2[1] - P1[1])/(P2[0] - P1[0])\n",
    "    # Calcul de l'ordonnée à l'origine (b)\n",
    "    b = P1[1] - a * P1[0]\n",
    "    \n",
    "    # Générer les valeurs x pour tracer la droite\n",
    "    x_vals = np.linspace(P1[0]-200, P1[0]+200, 100)  # Etend les x pour un tracé plus long\n",
    "    y_vals = a * x_vals + b\n",
    "\n",
    "    # Tracer le segment\n",
    "    #plt.plot((P1[0], P2[0]), (P1[1], P2[1]), color= 'yellow', marker='+')\n",
    "    \n",
    "    # Tracer la droite P1P2\n",
    "    plt.plot(x_vals, y_vals, '--y')  # Tracé en jaune avec des tirets"
   ]
  },
  {
   "cell_type": "code",
   "execution_count": 6,
   "id": "723a22bc-f8e2-44ab-8478-dab6dd96f70e",
   "metadata": {},
   "outputs": [],
   "source": [
    "def intersect_AB_CD(P1, P2, P3, P4):\n",
    "    # Calcul de la pente de la droite P1P2\n",
    "    a1 = (P2[1] - P1[1])/(P2[0] - P1[0])\n",
    "    # Calcul de l'ordonnée à l'origine (b)\n",
    "    b1 = P1[1] - a1 * P1[0]\n",
    "    \n",
    "    # Calcul de la pente de la droite P3P4\n",
    "    a2 = (P4[1] - P3[1])/(P4[0] - P3[0])\n",
    "    # Calcul de l'ordonnée à l'origine (b)\n",
    "    b2 = P3[1] - a2 * P3[0]\n",
    "\n",
    "    # Vérification si les droites sont parallèles\n",
    "    if a1 == a2:\n",
    "        return None  # Les droites sont parallèles, pas d'intersection\n",
    "    \n",
    "    # Calcul de l'intersection des deux droites\n",
    "    x = (b2 - b1) / (a1 - a2)\n",
    "    y = a1 * x + b1\n",
    "    \n",
    "    return (x, y)"
   ]
  },
  {
   "cell_type": "code",
   "execution_count": 7,
   "id": "365b36be-3e6b-4e74-a498-7622fbc29442",
   "metadata": {},
   "outputs": [],
   "source": [
    "def perpendiculaire_P1P2_P3(P1, P2, P3):\n",
    "    # Vérification du cas particulier où la perpendiculaire est verticale est vertical\n",
    "    if (P1[1]-P2[1])/(P1[0]-P2[0])==0:\n",
    "        # La parallèle sera une droite verticale passant par C\n",
    "        x_vals = np.array([P3[0], P3[0]])  # x reste constant\n",
    "        y_vals = np.array([P3[1] - 5, P3[1] + 5])  # Étend la droite sur l'axe y\n",
    "        plt.plot(x_vals, y_vals, '--r')\n",
    "        return (P3[0],0)\n",
    "    else:\n",
    "        # Calcul de la pente de la perpendiculaire\n",
    "        a = -(P2[0] - P1[0])/(P2[1] - P1[1])\n",
    "        # Calcul de l'ordonnée à l'origine (b)\n",
    "        b = P3[1] - a * P3[0]\n",
    "        \n",
    "        # Générer les valeurs x pour tracer la droite\n",
    "        x_vals = np.linspace(P3[0]-5, P3[0]+5, 10)  # Etend les x pour un tracé plus long\n",
    "        y_vals = a * x_vals + b\n",
    "        plt.plot(x_vals, y_vals, '--r')\n",
    "        # Coordonnées d'un deuxième point autre que P3 sur la paralelle\n",
    "        return (0,b)    "
   ]
  },
  {
   "cell_type": "code",
   "execution_count": 8,
   "id": "baaae057-f7cd-44a3-b659-2abd2d7e3d07",
   "metadata": {},
   "outputs": [],
   "source": [
    "def distance_A_B(A, B):\n",
    "    return ((A[0] - B[0])**2 + (A[0] - B[0])**2)**0.5"
   ]
  },
  {
   "cell_type": "code",
   "execution_count": 9,
   "id": "a115642f-9a77-4e34-9db6-10aed54ae267",
   "metadata": {},
   "outputs": [],
   "source": [
    "pil = plt.imread(r\"C:\\Users\\John\\Desktop\\jupyter_notebooks\\Porosimetre\\data\\20240907_214206.jpg\")"
   ]
  },
  {
   "cell_type": "markdown",
   "id": "5aefc65c-95a9-46cf-b5a3-c409a67f9f6b",
   "metadata": {},
   "source": [
    "# Etape 1 : enregistrement des premiers points"
   ]
  },
  {
   "cell_type": "code",
   "execution_count": 13,
   "id": "228fd978-ef31-4e93-ada0-269173390ae1",
   "metadata": {},
   "outputs": [],
   "source": [
    "plt.imshow(pil)\n",
    "pts = plt.ginput(11) #number of clicks\n",
    "A, B, C, D, E, F, G, H, I, J, K = pts[0], pts[1], pts[2], pts[3], pts[4], pts[5], pts[6], pts[7], pts[8], pts[9], pts[10]\n",
    "plt.close()"
   ]
  },
  {
   "cell_type": "markdown",
   "id": "5fa90d37-92e8-45d1-bf01-a63374659cfd",
   "metadata": {},
   "source": [
    "# Etape 2 : affichage des premiers points + enregistrement des deuxièmes points"
   ]
  },
  {
   "cell_type": "code",
   "execution_count": 14,
   "id": "504f5cfa-a0d7-40ab-b948-fe37ac846cef",
   "metadata": {},
   "outputs": [
    {
     "data": {
      "text/plain": [
       "Text(1197.1774193548385, 289.7064516129035, 'K')"
      ]
     },
     "execution_count": 14,
     "metadata": {},
     "output_type": "execute_result"
    }
   ],
   "source": [
    "plt.imshow(pil)\n",
    "\n",
    "plt.plot(A[0], A[1], '+y')\n",
    "plt.plot(B[0], B[1], '+y')\n",
    "\n",
    "plt.text(A[0], A[1], 'A', fontsize=12, color='yellow', ha='right')  \n",
    "plt.text(B[0], B[1], 'B', fontsize=12, color='yellow', ha='left')\n",
    "plt.text(C[0], C[1], 'C', fontsize=12, color='yellow', ha='left')  \n",
    "plt.text(D[0], D[1], 'D', fontsize=12, color='yellow', ha='right')\n",
    "plt.text(E[0], E[1], 'E', fontsize=12, color='yellow', ha='right')  \n",
    "plt.text(F[0], F[1], 'F', fontsize=12, color='yellow', ha='left')\n",
    "plt.text(G[0], G[1], 'G', fontsize=12, color='yellow', ha='right')  \n",
    "plt.text(H[0], H[1], 'H', fontsize=12, color='yellow', ha='left')\n",
    "plt.text(I[0], I[1], 'I', fontsize=12, color='yellow', ha='right')  \n",
    "plt.text(J[0], J[1], 'J', fontsize=12, color='yellow', ha='left')\n",
    "plt.text(K[0], K[1], 'K', fontsize=12, color='yellow', ha='right')  "
   ]
  },
  {
   "cell_type": "code",
   "execution_count": 15,
   "id": "7d92d68d-7ea7-4f0b-8edb-30fd6bdce678",
   "metadata": {},
   "outputs": [
    {
     "data": {
      "text/plain": [
       "(0, 3892.498118279567)"
      ]
     },
     "execution_count": 15,
     "metadata": {},
     "output_type": "execute_result"
    }
   ],
   "source": [
    "# tracer les parallèles à BD et DA passant par G => GL et GM\n",
    "parallele_AB_C(B, D, G)\n",
    "parallele_AB_C(D, A, G)"
   ]
  },
  {
   "cell_type": "code",
   "execution_count": 17,
   "id": "78d1d1a0-136b-4ded-90c3-797f9e8f8430",
   "metadata": {},
   "outputs": [],
   "source": [
    "pts = plt.ginput(2) #number of clicks\n",
    "L, M = pts[0], pts[1]\n",
    "plt.close()"
   ]
  },
  {
   "cell_type": "markdown",
   "id": "1a18c3f3-d55c-4f73-8b1a-d6ee76ef8776",
   "metadata": {},
   "source": [
    "# Etape 3 : calcul de la largeur de la porosité"
   ]
  },
  {
   "cell_type": "code",
   "execution_count": 18,
   "id": "18eec501-405d-4507-8007-3b54b6c95501",
   "metadata": {},
   "outputs": [],
   "source": [
    "# définition du point de fuite N\n",
    "N = intersect_AB_CD(L, A, M, B)"
   ]
  },
  {
   "cell_type": "code",
   "execution_count": 19,
   "id": "62a20c69-4365-432d-a090-68934d561e72",
   "metadata": {},
   "outputs": [],
   "source": [
    "# définition du point d'intersection O entre NL et la parallele à AB passant par G\n",
    "# définition d'un point P autre que G sur la parallèle à AB passant par G\n",
    "P = parallele_AB_C(A, B, G)\n",
    "\n",
    "# définition de O\n",
    "O = intersect_AB_CD(N, L, G, P)"
   ]
  },
  {
   "cell_type": "code",
   "execution_count": 20,
   "id": "669c9c9f-f815-4247-b427-b519dbef1505",
   "metadata": {},
   "outputs": [],
   "source": [
    "# définition du point d'intersection Q entre NM et la parallele à AB passant par G\n",
    "\n",
    "# définition de Q\n",
    "Q = intersect_AB_CD(N, M, G, P)"
   ]
  },
  {
   "cell_type": "code",
   "execution_count": 21,
   "id": "c5938e3c-01d2-4cab-a58b-e35932dd07b6",
   "metadata": {},
   "outputs": [],
   "source": [
    "# définition du point d'intersection R entre NI et la parallele à AB passant par G\n",
    "\n",
    "# définition de R\n",
    "R = intersect_AB_CD(N, I, G, P)"
   ]
  },
  {
   "cell_type": "code",
   "execution_count": 22,
   "id": "abaaa538-2175-4b38-aad4-536f51e7ade1",
   "metadata": {},
   "outputs": [],
   "source": [
    "# définition du point d'intersection S entre NJ et la parallele à AB passant par G\n",
    "\n",
    "# définition de S\n",
    "S = intersect_AB_CD(N, J, G, P)"
   ]
  },
  {
   "cell_type": "code",
   "execution_count": 23,
   "id": "3292b0be-6de5-4eed-aad0-24f616d55f07",
   "metadata": {},
   "outputs": [
    {
     "name": "stdout",
     "output_type": "stream",
     "text": [
      "largeur poro :  24.21\n"
     ]
    }
   ],
   "source": [
    "# Calcul de la largeur RS de la porosité\n",
    "RS = round(distance_A_B(R,S), 2)\n",
    "print(\"largeur poro : \", RS)"
   ]
  },
  {
   "cell_type": "markdown",
   "id": "2b9b87ee-66ef-484c-baa5-e3cdc1b39ae3",
   "metadata": {},
   "source": [
    "# Etape 4 : calcul de la longueur de la poro"
   ]
  },
  {
   "cell_type": "code",
   "execution_count": 24,
   "id": "f6690437-7f2c-4a37-ab8a-dd26c111d5de",
   "metadata": {},
   "outputs": [],
   "source": [
    "# définition du point d'intersection U entre TI et la parallele à AB passant par G\n",
    "# définition d'un point T autre que N sur la parallèle à AB passant par G\n",
    "T = parallele_AB_C(A, B, N)\n",
    "\n",
    "# définition de U\n",
    "U = intersect_AB_CD(T, I, G, P)"
   ]
  },
  {
   "cell_type": "code",
   "execution_count": 25,
   "id": "c5288f22-1a6c-4215-a857-0b1b13543070",
   "metadata": {},
   "outputs": [],
   "source": [
    "# définition des projections de D, E et F sur la parallele à AB passant par G\n",
    "# définition d'un point T autre que N sur la parallèle à AB passant par G\n",
    "T = parallele_AB_C(A, B, N)\n",
    "\n",
    "# Projections U, V, W de D, E, F\n",
    "U = intersect_AB_CD(T, D, G, P)\n",
    "V = intersect_AB_CD(T, E, G, P)\n",
    "W = intersect_AB_CD(T, F, G, P)"
   ]
  },
  {
   "cell_type": "code",
   "execution_count": 26,
   "id": "ce3fe3d2-2345-4332-9afc-4db181830b44",
   "metadata": {},
   "outputs": [
    {
     "name": "stdout",
     "output_type": "stream",
     "text": [
      "longueur poro :  3.22\n"
     ]
    }
   ],
   "source": [
    "# Calcul de la longueur de la poro (VW x Long / GU)\n",
    "VW = distance_A_B(V, W)\n",
    "GU = distance_A_B(G, U)\n",
    "print(\"longueur poro : \", round(VW * Long / GU , 2))"
   ]
  },
  {
   "cell_type": "code",
   "execution_count": null,
   "id": "1931b399-682f-4e42-890b-a0c8b2cb80d8",
   "metadata": {},
   "outputs": [],
   "source": []
  }
 ],
 "metadata": {
  "kernelspec": {
   "display_name": "Python 3 (ipykernel)",
   "language": "python",
   "name": "python3"
  },
  "language_info": {
   "codemirror_mode": {
    "name": "ipython",
    "version": 3
   },
   "file_extension": ".py",
   "mimetype": "text/x-python",
   "name": "python",
   "nbconvert_exporter": "python",
   "pygments_lexer": "ipython3",
   "version": "3.9.13"
  }
 },
 "nbformat": 4,
 "nbformat_minor": 5
}
