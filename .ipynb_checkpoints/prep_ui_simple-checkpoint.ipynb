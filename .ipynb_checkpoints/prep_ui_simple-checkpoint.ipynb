{
 "cells": [
  {
   "cell_type": "code",
   "execution_count": 1,
   "id": "d565e9d5-410a-4d45-8a6a-dcc664d45efe",
   "metadata": {},
   "outputs": [],
   "source": [
    "import glob\n",
    "import streamlit as st\n",
    "from PIL import Image, ImageDraw\n",
    "from streamlit_image_coordinates import streamlit_image_coordinates\n",
    "import utils as ut"
   ]
  },
  {
   "cell_type": "code",
   "execution_count": null,
   "id": "c85d1432-af09-48d1-a594-3bc5ede38dfe",
   "metadata": {},
   "outputs": [],
   "source": [
    "# Mise en page\n",
    "st.title(\"test image\")\n",
    "file = st.sidebar.file_uploader(\"Selection image\")\n",
    "Diam = st.sidebar.number_input(\"Diamètre\")"
   ]
  },
  {
   "cell_type": "code",
   "execution_count": null,
   "id": "bc82814b-56ad-4b3a-8708-c4a92a01856c",
   "metadata": {},
   "outputs": [],
   "source": [
    "# Définition du session_state\n",
    "if \"points\" not in st.session_state:\n",
    "    st.session_state[\"points\"] = []"
   ]
  },
  {
   "cell_type": "code",
   "execution_count": null,
   "id": "b626cbf9-0315-4ff2-8812-58a225446784",
   "metadata": {},
   "outputs": [],
   "source": [
    "# Acquisition des points\n",
    "def get_ellipse_coords(point: tuple[int, int]) -> tuple[int, int, int, int]:\n",
    "    center = point\n",
    "    radius = 5\n",
    "    return (\n",
    "        center[0] - radius,\n",
    "        center[1] - radius,\n",
    "        center[0] + radius,\n",
    "        center[1] + radius,\n",
    "    )\n",
    "\n",
    "with Image.open(file) as img:        \n",
    "    draw = ImageDraw.Draw(img)\n",
    "\n",
    "    # Draw an ellipse at each coordinate in points\n",
    "    for point in st.session_state[\"points\"]:\n",
    "        coords = get_ellipse_coords(point)\n",
    "        draw.ellipse(coords, fill=\"red\")\n",
    "\n",
    "    # Afficher l'image avec streamlit_image_coordinates\n",
    "    value = streamlit_image_coordinates(img, key=\"pil\")\n",
    "\n",
    "    if value is not None:\n",
    "        point = value[\"x\"], value[\"y\"]\n",
    "\n",
    "        if point not in st.session_state[\"points\"]:\n",
    "            st.session_state[\"points\"].append(point)\n",
    "\n",
    "# Attribution des points\n",
    "lp = st.session_state[\"points\"].copy()\n",
    "if len(lp) == 2:\n",
    "    \n",
    "    def plot_line_AB(P1, P2):\n",
    "    # Calcul de la pente de la droite P1P2\n",
    "    a = (P2[1] - P1[1])/(P2[0] - P1[0])\n",
    "    # Calcul de l'ordonnée à l'origine (b)\n",
    "    b = P1[1] - a * P1[0]\n",
    "    \n",
    "    # Générer les valeurs x pour tracer la droite\n",
    "    x_vals = np.linspace(P1[0]-200, P1[0]+200, 100)  # Etend les x pour un tracé plus long\n",
    "    y_vals = a * x_vals + b\n",
    "\n",
    "    # Tracer le segment\n",
    "    #plt.plot((P1[0], P2[0]), (P1[1], P2[1]), color= 'yellow', marker='+')\n",
    "    \n",
    "    # Tracer la droite P1P2\n",
    "    plt.plot(x_vals, y_vals, '--y')  # Tracé en jaune avec des tirets\n",
    "\n",
    "    plot_line(lp[0], lp[1])\n",
    "    "
   ]
  }
 ],
 "metadata": {
  "kernelspec": {
   "display_name": "Python 3 (ipykernel)",
   "language": "python",
   "name": "python3"
  },
  "language_info": {
   "codemirror_mode": {
    "name": "ipython",
    "version": 3
   },
   "file_extension": ".py",
   "mimetype": "text/x-python",
   "name": "python",
   "nbconvert_exporter": "python",
   "pygments_lexer": "ipython3",
   "version": "3.9.13"
  }
 },
 "nbformat": 4,
 "nbformat_minor": 5
}
