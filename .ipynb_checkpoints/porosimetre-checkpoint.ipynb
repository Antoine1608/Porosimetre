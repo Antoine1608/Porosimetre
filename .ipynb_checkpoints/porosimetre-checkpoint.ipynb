{
 "cells": [
  {
   "cell_type": "code",
   "execution_count": 1,
   "id": "be0d3c44-76c6-4936-9a84-c3507600ce50",
   "metadata": {},
   "outputs": [],
   "source": [
    "import numpy as np\n",
    "import matplotlib\n",
    "import matplotlib.pyplot as plt\n",
    "matplotlib.use('TkAgg')"
   ]
  },
  {
   "cell_type": "code",
   "execution_count": 2,
   "id": "35b52033-ead6-414b-8c94-ec70c7e0c752",
   "metadata": {},
   "outputs": [
    {
     "name": "stdout",
     "output_type": "stream",
     "text": [
      "[(771.6290322580646, 730.6096774193547), (806.7258064516129, 340.15806451612934)]\n"
     ]
    }
   ],
   "source": [
    "# visualiser l'image de départ\n",
    "pil = plt.imread(r\"C:\\Users\\John\\Desktop\\porosimetre\\20240907_214206.jpg\")\n",
    "plt.imshow(pil)\n",
    "\n",
    "# Tracer 2 points sur l'image (les extrémités de l'oeil)\n",
    "pts = plt.ginput(2) #number of clicks\n",
    "print(pts)\n",
    "\n",
    "plt.close()"
   ]
  },
  {
   "cell_type": "code",
   "execution_count": 3,
   "id": "c13ff07b-a098-42a0-8263-7570719d42cb",
   "metadata": {},
   "outputs": [],
   "source": [
    "# sauvegarder ces points dans des variables\n",
    "A, B = pts[0], pts[1]"
   ]
  },
  {
   "cell_type": "code",
   "execution_count": 4,
   "id": "1986b91f-619f-47e4-9709-ce16c8aa7053",
   "metadata": {},
   "outputs": [],
   "source": [
    "# fonction pour tracer une médiatrice d'un segment AB\n",
    "def plot_mediatrice_AB(A, B):\n",
    "    # Calcul du milieu du segment AB\n",
    "    I = ((A[0] + B[0]) / 2, (A[1] + B[1]) / 2)\n",
    "    \n",
    "    # Vérification du cas particulier où le segment AB est vertical\n",
    "    if A[0] == B[0]:\n",
    "        # La médiatrice sera une droite horizontale passant par le milieu\n",
    "        x_vals = np.array([A[0], A[0]])  # x reste constant\n",
    "        y_vals = np.array([I[1] - 5, I[1] + 5])  # Étend la droite sur l'axe y\n",
    "    else:\n",
    "        # Calcul de la pente de la médiatrice\n",
    "        a = -(B[0] - A[0]) / (B[1] - A[1])\n",
    "        # Calcul de l'ordonnée à l'origine (b)\n",
    "        b = I[1] - a * I[0]\n",
    "        \n",
    "        # Générer les valeurs x pour tracer la droite\n",
    "        x_vals = np.linspace(A[0]+700, B[0]-700, 100)  # Etend les x pour un tracé plus long\n",
    "        y_vals = a * x_vals + b\n",
    "    \n",
    "    # Tracer la médiatrice\n",
    "    plt.plot(x_vals, y_vals, '--y')  # Tracé en rouge avec des tirets"
   ]
  },
  {
   "cell_type": "code",
   "execution_count": 5,
   "id": "fa965f95-1997-44f2-bd39-230b896b0444",
   "metadata": {},
   "outputs": [],
   "source": [
    "# tracer le segment AB et la médiatrice\n",
    "plt.imshow(pil)\n",
    "plt.plot((A[0], B[0]), (A[1], B[1]), color= 'yellow', marker='+')\n",
    "\n",
    "plt.text(A[0], A[1], 'A', fontsize=12, color='yellow', ha='right')  # 'ha' pour alignement horizontal\n",
    "plt.text(B[0], B[1], 'B', fontsize=12, color='yellow', ha='left')\n",
    "\n",
    "plot_mediatrice_AB(A, B)"
   ]
  },
  {
   "cell_type": "markdown",
   "id": "955a9aef-f7b2-4482-8c54-1bee27b2c8d5",
   "metadata": {},
   "source": [
    "## A et B sont les extrémités de l'oeil"
   ]
  },
  {
   "cell_type": "code",
   "execution_count": 6,
   "id": "bc351923-114e-44f8-a29c-05fcf146e2e6",
   "metadata": {},
   "outputs": [
    {
     "name": "stdout",
     "output_type": "stream",
     "text": [
      "[(898.8548387096776, 520.0290322580645), (1372.6612903225807, 563.9000000000001)]\n"
     ]
    }
   ],
   "source": [
    "# tracer deux nouveaux points (le fond des deux cercles)\n",
    "pts = plt.ginput(2) #number of clicks\n",
    "print(pts)\n",
    "\n",
    "plt.close()"
   ]
  },
  {
   "cell_type": "code",
   "execution_count": 8,
   "id": "5fa0c339-e650-4a99-829f-37dc8a5ea5cf",
   "metadata": {},
   "outputs": [],
   "source": [
    "C, D = pts[0], pts[1]"
   ]
  },
  {
   "cell_type": "code",
   "execution_count": 7,
   "id": "08830f45-29ed-4267-9a8a-531188e1469d",
   "metadata": {},
   "outputs": [],
   "source": [
    "def parallele_AB_C(P1, P2, P3):\n",
    "    # Vérification du cas particulier où le segment AB est vertical\n",
    "    if P1[0] == P2[0]:\n",
    "        # La parallèle sera une droite verticale passant par C\n",
    "        x_vals = np.array([P3[0], P3[0]])  # x reste constant\n",
    "        y_vals = np.array([P3[1] - 500, P3[1] + 500])  # Étend la droite sur l'axe y\n",
    "        plt.plot(x_vals, y_vals, '--y')\n",
    "        return (P3[0],0)\n",
    "    else:\n",
    "        # Calcul de la pente de la parallèle\n",
    "        a = (P2[1] - P1[1])/(P2[0] - P1[0])\n",
    "        # Calcul de l'ordonnée à l'origine (b)\n",
    "        b = P3[1] - a * P3[0]\n",
    "        \n",
    "        # Générer les valeurs x pour tracer la droite\n",
    "        x_vals = np.linspace(P3[0]-10, P3[0]+10, 100)  # Etend les x pour un tracé plus long\n",
    "        y_vals = a * x_vals + b\n",
    "        plt.plot(x_vals, y_vals, '--y')\n",
    "        return (0,b)"
   ]
  },
  {
   "cell_type": "code",
   "execution_count": 9,
   "id": "9a9139bf-8a80-4eb7-843c-adf79de3bffc",
   "metadata": {},
   "outputs": [],
   "source": [
    "# tracer le segment AB et la médiatrice\n",
    "plt.imshow(pil)\n",
    "plt.plot((A[0], B[0]), (A[1], B[1]), color= 'yellow', marker='+')\n",
    "\n",
    "plt.text(A[0], A[1], 'A', fontsize=12, color='yellow', ha='right')  # 'ha' pour alignement horizontal\n",
    "plt.text(B[0], B[1], 'B', fontsize=12, color='yellow', ha='left')\n",
    "\n",
    "plot_mediatrice_AB(A, B)"
   ]
  },
  {
   "cell_type": "code",
   "execution_count": 10,
   "id": "f80c0951-1491-4cff-94e0-0381eeb68c1a",
   "metadata": {},
   "outputs": [
    {
     "data": {
      "text/plain": [
       "(0, 2835.891101223581)"
      ]
     },
     "execution_count": 10,
     "metadata": {},
     "output_type": "execute_result"
    }
   ],
   "source": [
    "# tracer les parallèles à AC et CB passant par D\n",
    "plt.text(C[0], C[1], 'C', fontsize=12, color='yellow', ha='right')  # 'ha' pour alignement horizontal\n",
    "plt.text(D[0], D[1], 'D', fontsize=12, color='yellow', ha='left')\n",
    "\n",
    "parallele_AB_C(C, B, D)\n",
    "parallele_AB_C(C, A, D)\n",
    "\n",
    "#plt.show()"
   ]
  },
  {
   "cell_type": "markdown",
   "id": "9b90d6a8-67f7-4739-a492-8cf7bccec731",
   "metadata": {},
   "source": [
    "## C et D sont le fond des deux cercles"
   ]
  },
  {
   "cell_type": "raw",
   "id": "d44e68ac-9cc7-4a83-a6a8-91bc1e3aa7bf",
   "metadata": {},
   "source": [
    "import numpy as np\n",
    "import matplotlib\n",
    "import matplotlib.pyplot as plt\n",
    "matplotlib.use('TkAgg')"
   ]
  },
  {
   "cell_type": "raw",
   "id": "1f9e726d-43b2-4906-ac75-7b5ff5ff8b12",
   "metadata": {},
   "source": [
    "pil = plt.imread(r\"C:\\Users\\John\\Desktop\\porosimetre\\20240907_214206.jpg\")\n",
    "plt.imshow(pil)"
   ]
  },
  {
   "cell_type": "code",
   "execution_count": 11,
   "id": "228e043c-8e27-4e6b-9641-a1e6016a2c33",
   "metadata": {},
   "outputs": [
    {
     "name": "stdout",
     "output_type": "stream",
     "text": [
      "[(1017.3064516129034, 875.3838709677418), (1061.1774193548388, 221.7064516129035)]\n"
     ]
    }
   ],
   "source": [
    "# tracer deux nouveaux points (les côtés du grand cercle)\n",
    "pts = plt.ginput(2) #number of clicks\n",
    "print(pts)"
   ]
  },
  {
   "cell_type": "code",
   "execution_count": 12,
   "id": "67899529-e3ef-4874-86bf-4050ad35a23a",
   "metadata": {},
   "outputs": [],
   "source": [
    "E, F = pts[0], pts[1]"
   ]
  },
  {
   "cell_type": "code",
   "execution_count": 13,
   "id": "1d9b65a4-fec5-4b1a-8d43-8e975f187763",
   "metadata": {},
   "outputs": [
    {
     "data": {
      "text/plain": [
       "Text(1061.1774193548388, 221.7064516129035, 'F')"
      ]
     },
     "execution_count": 13,
     "metadata": {},
     "output_type": "execute_result"
    }
   ],
   "source": [
    "plt.text(E[0], E[1], 'E', fontsize=12, color='yellow', ha='right')  # 'ha' pour alignement horizontal\n",
    "plt.text(F[0], F[1], 'F', fontsize=12, color='yellow', ha='left')"
   ]
  },
  {
   "cell_type": "markdown",
   "id": "dac9fd35-0469-46a4-a34f-d6b72790d841",
   "metadata": {},
   "source": [
    "## E et F sont les côtés du grand cercle"
   ]
  },
  {
   "cell_type": "code",
   "execution_count": null,
   "id": "24b6e246-1e1d-4bbe-b4f7-420fbc39e2fe",
   "metadata": {},
   "outputs": [],
   "source": [
    "# On réinitialise la fenêtre\n",
    "plt.close()"
   ]
  },
  {
   "cell_type": "code",
   "execution_count": 15,
   "id": "4f42d541-1c05-46b6-af0b-17870a724ac6",
   "metadata": {},
   "outputs": [],
   "source": [
    "# tracer le segment AB et la médiatrice\n",
    "plt.imshow(pil)\n",
    "plt.plot((A[0], B[0]), (A[1], B[1]), color= 'grey', marker='+')\n",
    "\n",
    "plt.text(A[0], A[1], 'A', fontsize=12, color='grey', ha='right')  # 'ha' pour alignement horizontal\n",
    "plt.text(B[0], B[1], 'B', fontsize=12, color='grey', ha='left')\n",
    "\n",
    "plot_mediatrice_AB(A, B)"
   ]
  },
  {
   "cell_type": "markdown",
   "id": "1ebd5693-91fb-4fe8-957b-3be02ca97422",
   "metadata": {},
   "source": [
    "## 2 - A et B sont les extrémités de l'oeil"
   ]
  },
  {
   "cell_type": "code",
   "execution_count": 16,
   "id": "fc453dea-364c-4d42-9e6d-b2e2f9760a87",
   "metadata": {},
   "outputs": [
    {
     "data": {
      "text/plain": [
       "(0, 2835.891101223581)"
      ]
     },
     "execution_count": 16,
     "metadata": {},
     "output_type": "execute_result"
    }
   ],
   "source": [
    "# tracer les parallèles à AC et CB passant par D\n",
    "plt.text(C[0], C[1], 'C', fontsize=12, color='grey', ha='right')  # 'ha' pour alignement horizontal\n",
    "plt.text(D[0], D[1], 'D', fontsize=12, color='grey', ha='left')\n",
    "\n",
    "parallele_AB_C(C, B, D)\n",
    "parallele_AB_C(C, A, D)"
   ]
  },
  {
   "cell_type": "markdown",
   "id": "a67a5170-c153-49a0-ad6b-b05258ed9bc9",
   "metadata": {},
   "source": [
    "## 2 - C et D sont le fond des deux cercles"
   ]
  },
  {
   "cell_type": "code",
   "execution_count": 17,
   "id": "f3ad9293-ea44-4a40-918d-46df93576bb7",
   "metadata": {},
   "outputs": [],
   "source": [
    "def plot_line_AB(P1, P2):\n",
    "    # Calcul de la pente de la droite P1P2\n",
    "    a = (P2[1] - P1[1])/(P2[0] - P1[0])\n",
    "    # Calcul de l'ordonnée à l'origine (b)\n",
    "    b = P1[1] - a * P1[0]\n",
    "    \n",
    "    # Générer les valeurs x pour tracer la droite\n",
    "    x_vals = np.linspace(P1[0]-200, P1[0]+200, 100)  # Etend les x pour un tracé plus long\n",
    "    y_vals = a * x_vals + b\n",
    "\n",
    "    # Tracer le segment\n",
    "    #plt.plot((P1[0], P2[0]), (P1[1], P2[1]), color= 'yellow', marker='+')\n",
    "    \n",
    "    # Tracer la droite P1P2\n",
    "    plt.plot(x_vals, y_vals, '--y')  # Tracé en jaune avec des tirets"
   ]
  },
  {
   "cell_type": "code",
   "execution_count": 18,
   "id": "6a920c84-b150-47cc-864a-7c2fb5d3354f",
   "metadata": {},
   "outputs": [],
   "source": [
    "def intersect_AB_CD(P1, P2, P3, P4):\n",
    "    # Calcul de la pente de la droite P1P2\n",
    "    a1 = (P2[1] - P1[1])/(P2[0] - P1[0])\n",
    "    # Calcul de l'ordonnée à l'origine (b)\n",
    "    b1 = P1[1] - a1 * P1[0]\n",
    "    \n",
    "    # Calcul de la pente de la droite P3P4\n",
    "    a2 = (P4[1] - P3[1])/(P4[0] - P3[0])\n",
    "    # Calcul de l'ordonnée à l'origine (b)\n",
    "    b2 = P3[1] - a2 * P3[0]\n",
    "\n",
    "    # Définir la matrice A\n",
    "    A = np.array([[1, -a1],\n",
    "                  [1, -a2]])\n",
    "    \n",
    "    # Calculer l'inverse de A\n",
    "    A_inv = np.linalg.inv(A)\n",
    "\n",
    "    return A_inv * [b1, b2]    "
   ]
  },
  {
   "cell_type": "code",
   "execution_count": 19,
   "id": "2ff9c9fb-ac43-49d7-a2bc-f01d806efe07",
   "metadata": {
    "scrolled": true
   },
   "outputs": [],
   "source": [
    "# tracer FB et le point d'intersection I avec CD\n",
    "#plot_line_AB(F, B)\n",
    "plt.text(E[0], E[1], 'E', fontsize=12, color='yellow', ha='right')  # 'ha' pour alignement horizontal\n",
    "plt.text(F[0], F[1], 'F', fontsize=12, color='yellow', ha='right')  # 'ha' pour alignement horizontal\n",
    "\n",
    "I = intersect_AB_CD(F, B, C, D)\n",
    "#plt.plot(I[1], I[0], color= 'yellow', marker='+')"
   ]
  },
  {
   "cell_type": "markdown",
   "id": "e6c377fa-804e-4087-a585-81d69e898b9e",
   "metadata": {},
   "source": [
    "## 2 - E et F sont les côtés du grand cercle"
   ]
  },
  {
   "cell_type": "code",
   "execution_count": 20,
   "id": "9856343d-19d3-4670-be8e-79f40a227001",
   "metadata": {},
   "outputs": [],
   "source": [
    "# tracer une parallèle à AB passant par D\n",
    "M = parallele_AB_C(A, B, D)"
   ]
  },
  {
   "cell_type": "code",
   "execution_count": 21,
   "id": "d60c4663-0cfc-45b2-8624-c05e17220cf8",
   "metadata": {},
   "outputs": [
    {
     "name": "stdout",
     "output_type": "stream",
     "text": [
      "[(1017.3064516129034, 682.3516129032257), (1017.3064516129034, 392.8032258064518)]\n"
     ]
    }
   ],
   "source": [
    "# tracer les points de largeur de la porosité\n",
    "\n",
    "pts = plt.ginput(2) #number of clicks\n",
    "print(pts)"
   ]
  },
  {
   "cell_type": "code",
   "execution_count": 22,
   "id": "75880a8f-2ad6-4848-93a5-c78241f65bc7",
   "metadata": {},
   "outputs": [],
   "source": [
    "L, Q = pts[0], pts[1]"
   ]
  },
  {
   "cell_type": "code",
   "execution_count": 23,
   "id": "cb4e6305-685c-43e1-acd6-9034a82076c7",
   "metadata": {},
   "outputs": [
    {
     "data": {
      "text/plain": [
       "Text(1017.3064516129034, 392.8032258064518, 'Q')"
      ]
     },
     "execution_count": 23,
     "metadata": {},
     "output_type": "execute_result"
    }
   ],
   "source": [
    "plt.text(L[0], L[1], 'L', fontsize=12, color='yellow', ha='right')  # 'ha' pour alignement horizontal\n",
    "plt.text(Q[0], Q[1], 'Q', fontsize=12, color='yellow', ha='right')  # 'ha' pour alignement horizontal"
   ]
  },
  {
   "cell_type": "code",
   "execution_count": null,
   "id": "287d12ae-b5e9-4440-8130-000beb26ea0c",
   "metadata": {},
   "outputs": [],
   "source": [
    "# on réinitialise la fenêtre\n",
    "plt.close()"
   ]
  },
  {
   "cell_type": "code",
   "execution_count": 24,
   "id": "742838eb-9b2e-4181-82fb-b5b050380df3",
   "metadata": {},
   "outputs": [],
   "source": [
    "def perpendiculaire_P1P2_P3(P1, P2, P3):\n",
    "    # Vérification du cas particulier où la perpendiculaire est verticale est vertical\n",
    "    if (P1[1]-P2[1])/(P1[0]-P2[0])==0:\n",
    "        # La parallèle sera une droite verticale passant par C\n",
    "        x_vals = np.array([P3[0], P3[0]])  # x reste constant\n",
    "        y_vals = np.array([P3[1] - 5, P3[1] + 5])  # Étend la droite sur l'axe y\n",
    "        plt.plot(x_vals, y_vals, '--r')\n",
    "        return (P3[0],0)\n",
    "    else:\n",
    "        # Calcul de la pente de la perpendiculaire\n",
    "        a = -(P2[0] - P1[0])/(P2[1] - P1[1])\n",
    "        # Calcul de l'ordonnée à l'origine (b)\n",
    "        b = P3[1] - a * P3[0]\n",
    "        \n",
    "        # Générer les valeurs x pour tracer la droite\n",
    "        x_vals = np.linspace(P3[0]-5, P3[0]+5, 10)  # Etend les x pour un tracé plus long\n",
    "        y_vals = a * x_vals + b\n",
    "        plt.plot(x_vals, y_vals, '--r')\n",
    "        return (0,b)    "
   ]
  },
  {
   "cell_type": "code",
   "execution_count": null,
   "id": "040d78bf-c19d-4d24-b171-f19fc0df85e2",
   "metadata": {},
   "outputs": [],
   "source": [
    "#test\n",
    "\n",
    "pts = plt.ginput(1) #number of clicks\n",
    "print(pts)\n",
    "\n",
    "plt.close()"
   ]
  },
  {
   "cell_type": "code",
   "execution_count": 24,
   "id": "348d3c48-6791-4833-88d7-cfee62c5f928",
   "metadata": {},
   "outputs": [
    {
     "data": {
      "text/plain": [
       "[<matplotlib.lines.Line2D at 0x20e016837f0>]"
      ]
     },
     "execution_count": 24,
     "metadata": {},
     "output_type": "execute_result"
    }
   ],
   "source": [
    "# tracer les perprendiculaires à DM passant par E et F\n",
    "N = perpendiculaire_P1P2_P3(D, M, E)\n",
    "P = perpendiculaire_P1P2_P3(D, M, F)\n",
    "\n",
    "# tracer les points d'intersection des perpendiculaire\n",
    "J = intersect_AB_CD(D, M, E, N)\n",
    "plt.plot(J[1], J[0], color= 'yellow', marker='+')\n",
    "K = intersect_AB_CD(D, M, F, P)\n",
    "plt.plot(K[1], K[0], color= 'yellow', marker='+')"
   ]
  },
  {
   "cell_type": "code",
   "execution_count": 25,
   "id": "1b42a2b1-987a-4a3a-b7dc-a2eb0f1622ac",
   "metadata": {},
   "outputs": [
    {
     "name": "stdout",
     "output_type": "stream",
     "text": [
      "[(1013.5359665406261, 915.8875806815018), (1057.1092817957679, 817.0766747905853)]\n"
     ]
    }
   ],
   "source": [
    "# tracer les points de largeur de la porosité\n",
    "\n",
    "pts = plt.ginput(2) #number of clicks\n",
    "print(pts)\n",
    "\n",
    "plt.close()"
   ]
  },
  {
   "cell_type": "code",
   "execution_count": null,
   "id": "a5562f2e-fcc3-49fa-8f24-29a2396a1d8a",
   "metadata": {},
   "outputs": [],
   "source": [
    "L, Q = pts[0], pts[1]"
   ]
  },
  {
   "cell_type": "code",
   "execution_count": null,
   "id": "375114a5-ed37-4236-9c7c-398cd845d96d",
   "metadata": {},
   "outputs": [],
   "source": [
    "# tracer IL et IQ et leurs intersections R et S avec DM\n",
    "plot_line_AB(I, L)\n",
    "plot_line_AB(I, Q)\n",
    "R = intersect_AB_CD(I, L, D, M)\n",
    "plt.plot(R[1], R[0], color= 'yellow', marker='+')\n",
    "S = intersect_AB_CD(I, Q, D, M)\n",
    "plt.plot(S[1], S[0], color= 'yellow', marker='+')"
   ]
  }
 ],
 "metadata": {
  "kernelspec": {
   "display_name": "Python 3 (ipykernel)",
   "language": "python",
   "name": "python3"
  },
  "language_info": {
   "codemirror_mode": {
    "name": "ipython",
    "version": 3
   },
   "file_extension": ".py",
   "mimetype": "text/x-python",
   "name": "python",
   "nbconvert_exporter": "python",
   "pygments_lexer": "ipython3",
   "version": "3.9.13"
  }
 },
 "nbformat": 4,
 "nbformat_minor": 5
}
