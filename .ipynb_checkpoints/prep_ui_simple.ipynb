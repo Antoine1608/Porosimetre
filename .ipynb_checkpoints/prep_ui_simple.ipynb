{
 "cells": [
  {
   "cell_type": "code",
   "execution_count": 1,
   "id": "d565e9d5-410a-4d45-8a6a-dcc664d45efe",
   "metadata": {},
   "outputs": [],
   "source": [
    "import glob\n",
    "import streamlit as st\n",
    "from PIL import Image, ImageDraw\n",
    "from streamlit_image_coordinates import streamlit_image_coordinates\n",
    "import utils as ut\n",
    "import numpy as np"
   ]
  },
  {
   "cell_type": "code",
   "execution_count": 2,
   "id": "c85d1432-af09-48d1-a594-3bc5ede38dfe",
   "metadata": {},
   "outputs": [
    {
     "name": "stderr",
     "output_type": "stream",
     "text": [
      "2025-07-02 16:21:53.534 \n",
      "  \u001b[33m\u001b[1mWarning:\u001b[0m to view this Streamlit app on a browser, run it with the following\n",
      "  command:\n",
      "\n",
      "    streamlit run C:\\Users\\John\\Desktop\\venv\\lib\\site-packages\\ipykernel_launcher.py [ARGUMENTS]\n"
     ]
    }
   ],
   "source": [
    "# Mise en page\n",
    "st.title(\"test image\")\n",
    "file = st.sidebar.file_uploader(\"Selection image\")\n",
    "Diam = st.sidebar.number_input(\"Diamètre\")"
   ]
  },
  {
   "cell_type": "code",
   "execution_count": 3,
   "id": "bc82814b-56ad-4b3a-8708-c4a92a01856c",
   "metadata": {},
   "outputs": [
    {
     "name": "stderr",
     "output_type": "stream",
     "text": [
      "2025-07-02 16:21:53.552 Session state does not function when running a script without `streamlit run`\n"
     ]
    }
   ],
   "source": [
    "# Définition du session_state\n",
    "if \"points\" not in st.session_state:\n",
    "    st.session_state[\"points\"] = []"
   ]
  },
  {
   "cell_type": "code",
   "execution_count": 4,
   "id": "b626cbf9-0315-4ff2-8812-58a225446784",
   "metadata": {},
   "outputs": [
    {
     "ename": "IndentationError",
     "evalue": "expected an indented block (164358002.py, line 35)",
     "output_type": "error",
     "traceback": [
      "\u001b[1;36m  Cell \u001b[1;32mIn[4], line 35\u001b[1;36m\u001b[0m\n\u001b[1;33m    a = (P2[1] - P1[1])/(P2[0] - P1[0])\u001b[0m\n\u001b[1;37m    ^\u001b[0m\n\u001b[1;31mIndentationError\u001b[0m\u001b[1;31m:\u001b[0m expected an indented block\n"
     ]
    }
   ],
   "source": [
    "# Acquisition des points\n",
    "def get_ellipse_coords(point: tuple[int, int]) -> tuple[int, int, int, int]:\n",
    "    center = point\n",
    "    radius = 5\n",
    "    return (\n",
    "        center[0] - radius,\n",
    "        center[1] - radius,\n",
    "        center[0] + radius,\n",
    "        center[1] + radius,\n",
    "    )\n",
    "\n",
    "with Image.open(file) as img:        \n",
    "    draw = ImageDraw.Draw(img)\n",
    "\n",
    "    # Draw an ellipse at each coordinate in points\n",
    "    for point in st.session_state[\"points\"]:\n",
    "        coords = get_ellipse_coords(point)\n",
    "        draw.ellipse(coords, fill=\"red\")\n",
    "\n",
    "    # Afficher l'image avec streamlit_image_coordinates\n",
    "    value = streamlit_image_coordinates(img, key=\"pil\")\n",
    "\n",
    "    if value is not None:\n",
    "        point = value[\"x\"], value[\"y\"]\n",
    "\n",
    "        if point not in st.session_state[\"points\"]:\n",
    "            st.session_state[\"points\"].append(point)\n",
    "\n",
    "# Attribution des points\n",
    "lp = st.session_state[\"points\"].copy()\n",
    "if len(lp) == 2:\n",
    "    \n",
    "    def plot_line_AB(P1, P2):\n",
    "    # Calcul de la pente de la droite P1P2\n",
    "    a = (P2[1] - P1[1])/(P2[0] - P1[0])\n",
    "    # Calcul de l'ordonnée à l'origine (b)\n",
    "    b = P1[1] - a * P1[0]\n",
    "    \n",
    "    # Générer les valeurs x pour tracer la droite\n",
    "    x_vals = np.linspace(P1[0]-200, P1[0]+200, 100)  # Etend les x pour un tracé plus long\n",
    "    y_vals = a * x_vals + b\n",
    "\n",
    "    # Tracer le segment\n",
    "    #plt.plot((P1[0], P2[0]), (P1[1], P2[1]), color= 'yellow', marker='+')\n",
    "    \n",
    "    # Tracer la droite P1P2\n",
    "    plt.plot(x_vals, y_vals, '--y')  # Tracé en jaune avec des tirets\n",
    "\n",
    "    plot_line(lp[0], lp[1])\n",
    "    "
   ]
  },
  {
   "cell_type": "code",
   "execution_count": null,
   "id": "b373420d-ea6a-4b6f-af91-28268d75e378",
   "metadata": {},
   "outputs": [],
   "source": [
    "def plot_line_AB(P1, P2, img):\n",
    "    draw = ImageDraw.Draw(img)\n",
    "    # Calcul de la pente de la droite P1P2\n",
    "    a = (P2[1] - P1[1]) / (P2[0] - P1[0])\n",
    "    # Calcul de l'ordonnée à l'origine (b)\n",
    "    b = P1[1] - a * P1[0]\n",
    "\n",
    "    # Générer les valeurs x pour tracer la droite\n",
    "    x_vals = np.linspace(P1[0] - 200, P1[0] + 200, 100)  # Etend les x pour un tracé plus long\n",
    "    y_vals = a * x_vals + b\n",
    "\n",
    "    # Tracer la droite P1P2 sur l'image\n",
    "    for i in range(len(x_vals) - 1):\n",
    "        x0, y0 = x_vals[i], y_vals[i]\n",
    "        x1, y1 = x_vals[i + 1], y_vals[i + 1]\n",
    "        draw.line([(x0, y0), (x1, y1)], fill=\"yellow\", width=2)\n",
    "\n",
    "with Image.open(r\"C:\\Users\\John\\Desktop\\jupyter_notebooks\\Porosimetre\\data\\20250506_090914.jpg\") as img:        \n",
    "    draw = ImageDraw.Draw(img)\n",
    "\n",
    "plot_line_AB((1,1), (5,5),img)"
   ]
  },
  {
   "cell_type": "code",
   "execution_count": null,
   "id": "aa961fa8-5d3d-405a-9f52-f9be251b96b7",
   "metadata": {},
   "outputs": [],
   "source": [
    "with Image.open(r\"C:\\Users\\John\\Desktop\\jupyter_notebooks\\Porosimetre\\data\\20250506_090914.jpg\") as img:        \n",
    "    draw = ImageDraw.Draw(img)"
   ]
  },
  {
   "cell_type": "code",
   "execution_count": 6,
   "id": "1f122bd5-8141-4a3f-914c-e6cb888fad01",
   "metadata": {},
   "outputs": [],
   "source": [
    "from PIL import Image, ImageDraw\n",
    "\n",
    "# Ouvrir une image\n",
    "img = Image.open(r\".\\data\\test.jpg\")\n",
    "\n",
    "# Créer un objet de dessin\n",
    "draw = ImageDraw.Draw(img)\n",
    "\n",
    "# Dessiner un cercle rouge à la position (100, 100) avec un rayon de 50\n",
    "draw.ellipse((50, 50, 150, 150), fill=\"red\")\n",
    "\n",
    "# Sauvegarder l'image modifiée\n",
    "img.save(\"example_modified.jpg\")\n",
    "\n"
   ]
  },
  {
   "cell_type": "code",
   "execution_count": 8,
   "id": "3a02ac8e-ccae-4ef0-8b07-5e1a440bb76d",
   "metadata": {},
   "outputs": [],
   "source": [
    "# Afficher l'image modifiée\n",
    "img.show()"
   ]
  }
 ],
 "metadata": {
  "kernelspec": {
   "display_name": "Python 3 (ipykernel)",
   "language": "python",
   "name": "python3"
  },
  "language_info": {
   "codemirror_mode": {
    "name": "ipython",
    "version": 3
   },
   "file_extension": ".py",
   "mimetype": "text/x-python",
   "name": "python",
   "nbconvert_exporter": "python",
   "pygments_lexer": "ipython3",
   "version": "3.9.13"
  }
 },
 "nbformat": 4,
 "nbformat_minor": 5
}
