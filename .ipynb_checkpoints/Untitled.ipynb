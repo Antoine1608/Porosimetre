{
 "cells": [
  {
   "cell_type": "code",
   "execution_count": 19,
   "id": "a6f974c6-ee99-47cb-b0c2-6128101510c7",
   "metadata": {},
   "outputs": [],
   "source": [
    "import numpy as np\n",
    "import matplotlib\n",
    "import matplotlib.pyplot as plt\n",
    "matplotlib.use('TkAgg')"
   ]
  },
  {
   "cell_type": "code",
   "execution_count": 20,
   "id": "fb1f27dd-8648-481f-9fac-917034ded0c6",
   "metadata": {},
   "outputs": [
    {
     "name": "stdout",
     "output_type": "stream",
     "text": [
      "[(1112.8506493506493, 2976.7467532467535), (3462.98051948052, 2970.512987012987), (2197.525974025974, 1218.8246753246758)]\n"
     ]
    }
   ],
   "source": [
    "# visualiser l'image de départ\n",
    "pil = plt.imread(r\"C:\\Users\\John\\Desktop\\jupyter_notebooks\\Porosimetre\\data\\20250512_112732.jpg\")\n",
    "plt.imshow(pil)\n",
    "\n",
    "# Tracer 2 points sur l'image (les extrémités de l'oeil)\n",
    "pts = plt.ginput(3) #number of clicks\n",
    "print(pts)\n",
    "\n",
    "plt.close()"
   ]
  },
  {
   "cell_type": "code",
   "execution_count": 21,
   "id": "cc47c145-3d02-44a0-9398-b1f256897251",
   "metadata": {},
   "outputs": [],
   "source": [
    "# sauvegarder ces points dans des variables\n",
    "A, B, C = pts[0], pts[1], pts[2]"
   ]
  },
  {
   "cell_type": "code",
   "execution_count": 22,
   "id": "4ee7fd0e-48d4-4639-9586-5c1d0195a90d",
   "metadata": {},
   "outputs": [],
   "source": [
    "import utils as ut\n",
    "D = ut.parallele_AB_C(A, B, C)"
   ]
  },
  {
   "cell_type": "code",
   "execution_count": 23,
   "id": "606e129a-5e6a-427e-bbda-1b01d77be9b8",
   "metadata": {},
   "outputs": [],
   "source": [
    "# Annoter les points\n",
    "plt.text(A[0], A[1], 'A', fontsize=12, color='yellow', ha='right')\n",
    "plt.text(B[0], B[1], 'B', fontsize=12, color='yellow', ha='left')\n",
    "plt.text(C[0], C[1], 'C', fontsize=12, color='yellow', ha='right')\n",
    "plt.text(D[0], D[1], 'D', fontsize=12, color='yellow', ha='left')\n",
    "\n",
    "# Ajuster les limites des axes pour s'assurer que tous les points sont visibles\n",
    "plt.xlim(min([A[0], B[0], C[0], D[0]]) - 1, max([A[0], B[0], C[0], D[0]]) + 1)\n",
    "plt.ylim(min([A[1], B[1], C[1], D[1]]) - 1, max([A[1], B[1], C[1], D[1]]) + 1)\n",
    "\n",
    "# Afficher le graphique\n",
    "plt.grid(True)\n",
    "plt.show()"
   ]
  },
  {
   "cell_type": "code",
   "execution_count": null,
   "id": "2df07fa1-2db6-4880-99c8-690bc90596fb",
   "metadata": {},
   "outputs": [],
   "source": []
  }
 ],
 "metadata": {
  "kernelspec": {
   "display_name": "Python 3 (ipykernel)",
   "language": "python",
   "name": "python3"
  },
  "language_info": {
   "codemirror_mode": {
    "name": "ipython",
    "version": 3
   },
   "file_extension": ".py",
   "mimetype": "text/x-python",
   "name": "python",
   "nbconvert_exporter": "python",
   "pygments_lexer": "ipython3",
   "version": "3.9.13"
  }
 },
 "nbformat": 4,
 "nbformat_minor": 5
}
