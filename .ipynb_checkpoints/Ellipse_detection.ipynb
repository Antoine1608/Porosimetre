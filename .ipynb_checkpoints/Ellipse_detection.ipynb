{
 "cells": [
  {
   "cell_type": "code",
   "execution_count": 21,
   "id": "364743b1-9fb5-40e7-bad3-28129d7a5823",
   "metadata": {},
   "outputs": [
    {
     "data": {
      "text/plain": [
       "True"
      ]
     },
     "execution_count": 21,
     "metadata": {},
     "output_type": "execute_result"
    }
   ],
   "source": [
    "import cv2\n",
    "import numpy as np\n",
    "\n",
    "# Charger l'image\n",
    "image = cv2.imread(r\"C:\\Users\\John\\Desktop\\jupyter_notebooks\\Porosimetre\\Detected_Circle3.jpg\")\n",
    "height, width = image.shape[:2]\n",
    "\n",
    "# Convertir l'image en niveaux de gris\n",
    "gray = cv2.cvtColor(image, cv2.COLOR_BGR2GRAY)\n",
    "\n",
    "# Appliquer un flou pour réduire le bruit\n",
    "blurred = cv2.GaussianBlur(gray, (5, 5), 0)\n",
    "\n",
    "# Détecter les contours\n",
    "edges = cv2.Canny(blurred, 50, 150)\n",
    "\n",
    "# Trouver les contours\n",
    "contours, _ = cv2.findContours(edges, cv2.RETR_EXTERNAL, cv2.CHAIN_APPROX_SIMPLE)\n",
    "\n",
    "# Parcourir les contours et détecter les ellipses\n",
    "ellipses = []\n",
    "for contour in contours:\n",
    "    if len(contour) >= 5:\n",
    "        ellipse = cv2.fitEllipse(contour)\n",
    "        (x, y), (MA, ma), angle = ellipse\n",
    "        ellipses.append(ellipse)\n",
    "\n",
    "# Filtrer les ellipses pour ne garder que la plus centrale et dont le plus grand axe fait au minimum la moitié de la longueur de l'image\n",
    "filtered_ellipses = []\n",
    "for ellipse in ellipses:\n",
    "    (x, y), (MA, ma), angle = ellipse\n",
    "    if MA >= width / 4:\n",
    "        filtered_ellipses.append(ellipse)\n",
    "\n",
    "if filtered_ellipses:\n",
    "    # Trouver l'ellipse la plus centrale\n",
    "    central_ellipse = min(filtered_ellipses, key=lambda ellipse: abs(ellipse[0][0] - width / 2) + abs(ellipse[0][1] - height / 2))\n",
    "    filtered_ellipses.remove(central_ellipse)\n",
    "    central_ellipse = min(filtered_ellipses, key=lambda ellipse: abs(ellipse[0][0] - width / 2) + abs(ellipse[0][1] - height / 2))\n",
    "    \n",
    "    # Dessiner l'ellipse la plus centrale\n",
    "    cv2.ellipse(image, central_ellipse, (0, 255, 0), 2)\n",
    "\n",
    "# Afficher l'image avec l'ellipse détectée\n",
    "cv2.imshow(\"Ellipse détectée\", image)\n",
    "cv2.waitKey(0)\n",
    "cv2.destroyAllWindows()\n",
    "\n",
    "# Sauvegarder l'image avec l'ellipse détectée\n",
    "cv2.imwrite('path_to_your_output_image.jpg', cv2.resize(image, (512, 512)))\n"
   ]
  }
 ],
 "metadata": {
  "kernelspec": {
   "display_name": "Python 3 (ipykernel)",
   "language": "python",
   "name": "python3"
  },
  "language_info": {
   "codemirror_mode": {
    "name": "ipython",
    "version": 3
   },
   "file_extension": ".py",
   "mimetype": "text/x-python",
   "name": "python",
   "nbconvert_exporter": "python",
   "pygments_lexer": "ipython3",
   "version": "3.9.13"
  }
 },
 "nbformat": 4,
 "nbformat_minor": 5
}
