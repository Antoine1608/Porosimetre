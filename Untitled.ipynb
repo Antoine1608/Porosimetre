{
 "cells": [
  {
   "cell_type": "code",
   "execution_count": 1,
   "id": "5917d46b-2d8f-4ba3-8f04-2e68c85bfa6a",
   "metadata": {},
   "outputs": [],
   "source": [
    "import numpy as np"
   ]
  },
  {
   "cell_type": "code",
   "execution_count": 5,
   "id": "6ce5e5f9-7622-43d4-a58a-ecd9e548ad48",
   "metadata": {},
   "outputs": [
    {
     "data": {
      "text/plain": [
       "1"
      ]
     },
     "execution_count": 5,
     "metadata": {},
     "output_type": "execute_result"
    }
   ],
   "source": [
    "lp =[(1,5), (6,3), (4,4), (8,3)]\n",
    "b = lp[-1]\n",
    "idx = np.argmin([np.abs(a[0]-b[0]+a[1]-b[1]) for a in lp[:-1]])\n",
    "idx"
   ]
  },
  {
   "cell_type": "code",
   "execution_count": 7,
   "id": "1625c53b-b97a-4cdc-b43b-039040a3df62",
   "metadata": {},
   "outputs": [
    {
     "data": {
      "text/plain": [
       "[(1, 5), (4, 4), (8, 3)]"
      ]
     },
     "execution_count": 7,
     "metadata": {},
     "output_type": "execute_result"
    }
   ],
   "source": [
    "lp.remove(lp[1])\n",
    "lp"
   ]
  },
  {
   "cell_type": "code",
   "execution_count": null,
   "id": "d81687ae-1355-4602-8223-eba3bf1bd6ca",
   "metadata": {},
   "outputs": [],
   "source": []
  }
 ],
 "metadata": {
  "kernelspec": {
   "display_name": "Python 3 (ipykernel)",
   "language": "python",
   "name": "python3"
  },
  "language_info": {
   "codemirror_mode": {
    "name": "ipython",
    "version": 3
   },
   "file_extension": ".py",
   "mimetype": "text/x-python",
   "name": "python",
   "nbconvert_exporter": "python",
   "pygments_lexer": "ipython3",
   "version": "3.9.13"
  }
 },
 "nbformat": 4,
 "nbformat_minor": 5
}
